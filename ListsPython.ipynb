{
  "metadata": {
    "kernelspec": {
      "name": "",
      "display_name": ""
    },
    "language_info": {
      "name": ""
    }
  },
  "nbformat_minor": 4,
  "nbformat": 4,
  "cells": [
    {
      "cell_type": "code",
      "source": "Q1. Create an empty list.\n\nWe can create an empty list in Python using empty square brackets [] or by using the list() constructor. \n\n 1: Using Square Brackets\nempty_list = []\nprint(empty_list)  # Output: []\n\n2: Using the list() Constructor\nempty_list = list()\nprint(empty_list)  # Output: []\n\n\n",
      "metadata": {
        "trusted": true
      },
      "outputs": [],
      "execution_count": null
    },
    {
      "cell_type": "code",
      "source": "\nQ2. Create a list and add an element to the end of this list.\n\n# Create a list\nmy_list = [1, 2, 3]\n\n# Add an element to the end of the list\nmy_list.append(4)\n\n# Print the updated list\nprint(my_list)  # Output: [1, 2, 3, 4]\n",
      "metadata": {
        "trusted": true
      },
      "outputs": [],
      "execution_count": null
    },
    {
      "cell_type": "code",
      "source": "Q2. Create a list and add an element to the end of this list.\n\n# Create a list\nmy_list = [1, 2, 3]\n\n# Add an element to the end of the list\nmy_list.append(4)\n\n# Print the updated list\nprint(my_list)  # Output: [1, 2, 3, 4]\n\n\n",
      "metadata": {
        "trusted": true
      },
      "outputs": [],
      "execution_count": null
    },
    {
      "cell_type": "code",
      "source": "Q2. Create a list and add an element to the end of this list.\n\n# Create a list\nmy_list = [1, 2, 3]\n\n# Add an element to the end of the list\nmy_list.append(4)\n\n# Print the updated list\nprint(my_list)  # Output: [1, 2, 3, 4]\n\n",
      "metadata": {
        "trusted": true
      },
      "outputs": [],
      "execution_count": null
    }
  ]
}